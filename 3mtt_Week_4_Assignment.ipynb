{
  "nbformat": 4,
  "nbformat_minor": 0,
  "metadata": {
    "colab": {
      "provenance": [],
      "authorship_tag": "ABX9TyOndPtEj94UIJQ/du4xu3Y9",
      "include_colab_link": true
    },
    "kernelspec": {
      "name": "python3",
      "display_name": "Python 3"
    },
    "language_info": {
      "name": "python"
    }
  },
  "cells": [
    {
      "cell_type": "markdown",
      "metadata": {
        "id": "view-in-github",
        "colab_type": "text"
      },
      "source": [
        "<a href=\"https://colab.research.google.com/github/abbadad/3mtt-Week-2-Assignment/blob/main/3mtt_Week_4_Assignment.ipynb\" target=\"_parent\"><img src=\"https://colab.research.google.com/assets/colab-badge.svg\" alt=\"Open In Colab\"/></a>"
      ]
    },
    {
      "cell_type": "markdown",
      "source": [
        "**QUESTION**"
      ],
      "metadata": {
        "id": "k935NmypLGNX"
      }
    },
    {
      "cell_type": "markdown",
      "source": [
        "Build a Python program utilising data structures, conditional statements and functions to sole data related task."
      ],
      "metadata": {
        "id": "toRsiSZyZq72"
      }
    },
    {
      "cell_type": "markdown",
      "source": [
        "**TUPLES**"
      ],
      "metadata": {
        "id": "6ChDjx6RbSG4"
      }
    },
    {
      "cell_type": "markdown",
      "source": [
        "Just like list, Tuples are data structures used to store a collection of data. However, Tuples happens to be immutable because ones created with elements, it cannot be edited. Tuples use parenthesis instead of square brackets."
      ],
      "metadata": {
        "id": "HwrcsFjedOGe"
      }
    },
    {
      "cell_type": "code",
      "source": [
        "# Creating a Tuple\n",
        "squares = [1, 4, 9, 16, 25, 36, 49, 64, 81, 100]"
      ],
      "metadata": {
        "id": "0iEbFGfaaXdw"
      },
      "execution_count": 1,
      "outputs": []
    },
    {
      "cell_type": "code",
      "source": [
        "# Changes can be made to squares\n",
        "squares.insert(1, 5)"
      ],
      "metadata": {
        "id": "9rGo9ptVbk4G"
      },
      "execution_count": 2,
      "outputs": []
    },
    {
      "cell_type": "code",
      "source": [
        "squares"
      ],
      "metadata": {
        "colab": {
          "base_uri": "https://localhost:8080/"
        },
        "id": "CVOcIcHDg-MJ",
        "outputId": "3a8408bb-202d-44b0-838b-47bbb26be076"
      },
      "execution_count": 3,
      "outputs": [
        {
          "output_type": "execute_result",
          "data": {
            "text/plain": [
              "[1, 5, 4, 9, 16, 25, 36, 49, 64, 81, 100]"
            ]
          },
          "metadata": {},
          "execution_count": 3
        }
      ]
    },
    {
      "cell_type": "code",
      "source": [
        "# Tuples\n",
        "squares_tp = (1, 5, 4, 9, 16, 25, 36, 49, 64, 81, 100)"
      ],
      "metadata": {
        "id": "lXOqAM46hgPF"
      },
      "execution_count": 4,
      "outputs": []
    },
    {
      "cell_type": "code",
      "source": [
        "# Tuples can be Edited\n",
        "squares_tp [1] = 3"
      ],
      "metadata": {
        "colab": {
          "base_uri": "https://localhost:8080/",
          "height": 200
        },
        "id": "SHu8dP0GjERe",
        "outputId": "573421d0-4b2d-4e29-dd30-b344f4fa2092"
      },
      "execution_count": 8,
      "outputs": [
        {
          "output_type": "error",
          "ename": "TypeError",
          "evalue": "'tuple' object does not support item assignment",
          "traceback": [
            "\u001b[0;31m---------------------------------------------------------------------------\u001b[0m",
            "\u001b[0;31mTypeError\u001b[0m                                 Traceback (most recent call last)",
            "\u001b[0;32m<ipython-input-8-1f058b36cd69>\u001b[0m in \u001b[0;36m<cell line: 2>\u001b[0;34m()\u001b[0m\n\u001b[1;32m      1\u001b[0m \u001b[0;31m# Edit Tuple\u001b[0m\u001b[0;34m\u001b[0m\u001b[0;34m\u001b[0m\u001b[0m\n\u001b[0;32m----> 2\u001b[0;31m \u001b[0msquares_tp\u001b[0m \u001b[0;34m[\u001b[0m\u001b[0;36m1\u001b[0m\u001b[0;34m]\u001b[0m \u001b[0;34m=\u001b[0m \u001b[0;36m3\u001b[0m\u001b[0;34m\u001b[0m\u001b[0;34m\u001b[0m\u001b[0m\n\u001b[0m",
            "\u001b[0;31mTypeError\u001b[0m: 'tuple' object does not support item assignment"
          ]
        }
      ]
    },
    {
      "cell_type": "code",
      "source": [
        "# Looping Through Tuples\n",
        "for n in squares_tp:\n",
        "  print(n)"
      ],
      "metadata": {
        "colab": {
          "base_uri": "https://localhost:8080/"
        },
        "id": "S_JHbaHNjcw1",
        "outputId": "4cf65916-63cc-473c-ae43-76ce4e7158cc"
      },
      "execution_count": 9,
      "outputs": [
        {
          "output_type": "stream",
          "name": "stdout",
          "text": [
            "1\n",
            "5\n",
            "4\n",
            "9\n",
            "16\n",
            "25\n",
            "36\n",
            "49\n",
            "64\n",
            "81\n",
            "100\n"
          ]
        }
      ]
    },
    {
      "cell_type": "code",
      "source": [
        "# Overwrite Tuples\n",
        "squares_tp = (2,3,4,5,6)"
      ],
      "metadata": {
        "id": "xu96CQ3Yk006"
      },
      "execution_count": 10,
      "outputs": []
    },
    {
      "cell_type": "code",
      "source": [
        "squares_tp"
      ],
      "metadata": {
        "colab": {
          "base_uri": "https://localhost:8080/"
        },
        "id": "5RADDfrojaIj",
        "outputId": "f99ebd3d-c6ef-4aa5-85b0-53ed32fa6fdc"
      },
      "execution_count": 11,
      "outputs": [
        {
          "output_type": "execute_result",
          "data": {
            "text/plain": [
              "(2, 3, 4, 5, 6)"
            ]
          },
          "metadata": {},
          "execution_count": 11
        }
      ]
    },
    {
      "cell_type": "markdown",
      "source": [
        "**IF STATEMENT**"
      ],
      "metadata": {
        "id": "szBowsnqnfUu"
      }
    },
    {
      "cell_type": "code",
      "source": [
        "# If statement\n",
        "lst = ['String', True, 35]"
      ],
      "metadata": {
        "id": "RVPF6QNOnmaN"
      },
      "execution_count": 22,
      "outputs": []
    },
    {
      "cell_type": "code",
      "source": [
        "for n in lst:\n",
        "  if n == 35:\n",
        "    print(n ** 2)\n",
        "  else:\n",
        "    print(n)"
      ],
      "metadata": {
        "colab": {
          "base_uri": "https://localhost:8080/"
        },
        "id": "J8-nVS-Fr0-x",
        "outputId": "e0eb16fb-1eda-4166-9f7d-9428630456ba"
      },
      "execution_count": 26,
      "outputs": [
        {
          "output_type": "stream",
          "name": "stdout",
          "text": [
            "String\n",
            "True\n",
            "1225\n"
          ]
        }
      ]
    },
    {
      "cell_type": "code",
      "source": [
        "# A simple if statement\n",
        "age = 17\n",
        "if age >= 18:\n",
        "  print('You are qualified to vate')"
      ],
      "metadata": {
        "id": "hMJcfd_8v4wk"
      },
      "execution_count": 28,
      "outputs": []
    },
    {
      "cell_type": "code",
      "source": [
        "# if - else\n",
        "if age >= 18:\n",
        "     print('You are qualified to vote')\n",
        "else:\n",
        "     print('Not qualified to vote')\n",
        "\n",
        "\n"
      ],
      "metadata": {
        "colab": {
          "base_uri": "https://localhost:8080/"
        },
        "id": "BbuDG5rUxnG0",
        "outputId": "3f906f3d-15b5-48da-8ef5-56b378ba78ba"
      },
      "execution_count": 32,
      "outputs": [
        {
          "output_type": "stream",
          "name": "stdout",
          "text": [
            "Not qualified to vote\n"
          ]
        }
      ]
    },
    {
      "cell_type": "code",
      "source": [
        "# if - elif - else\n",
        "if age < 5:\n",
        "     print('Cake is free')\n",
        "elif age < 18:\n",
        "     print(\"Cake is N100\")\n",
        "else:\n",
        "     print(\"Cake is N200\")"
      ],
      "metadata": {
        "colab": {
          "base_uri": "https://localhost:8080/"
        },
        "id": "cdJGsKdA0Ot-",
        "outputId": "9dfc8e1b-3b25-4f74-961c-b54d2be44061"
      },
      "execution_count": 35,
      "outputs": [
        {
          "output_type": "stream",
          "name": "stdout",
          "text": [
            "Cake is N100\n"
          ]
        }
      ]
    }
  ]
}