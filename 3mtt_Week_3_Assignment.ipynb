{
  "nbformat": 4,
  "nbformat_minor": 0,
  "metadata": {
    "colab": {
      "provenance": [],
      "authorship_tag": "ABX9TyO5CPwUC0Ajs0NVAga6qqqZ",
      "include_colab_link": true
    },
    "kernelspec": {
      "name": "python3",
      "display_name": "Python 3"
    },
    "language_info": {
      "name": "python"
    }
  },
  "cells": [
    {
      "cell_type": "markdown",
      "metadata": {
        "id": "view-in-github",
        "colab_type": "text"
      },
      "source": [
        "<a href=\"https://colab.research.google.com/github/abbadad/3mtt-Week-2-Assignment/blob/main/3mtt_Week_3_Assignment.ipynb\" target=\"_parent\"><img src=\"https://colab.research.google.com/assets/colab-badge.svg\" alt=\"Open In Colab\"/></a>"
      ]
    },
    {
      "cell_type": "markdown",
      "source": [
        "**QUESTION**\n",
        "\n",
        "Develop a Python script that showcases the basics learned, demonstrating your understanding of Python programming."
      ],
      "metadata": {
        "id": "k935NmypLGNX"
      }
    },
    {
      "cell_type": "markdown",
      "source": [
        "**VARIABLES**"
      ],
      "metadata": {
        "id": "7CAj4zH-uoej"
      }
    },
    {
      "cell_type": "code",
      "source": [
        "# Variables in Python Programming can be likened to containers that store materials and the materials can be likened to data types."
      ],
      "metadata": {
        "id": "mRm6gM6Pso85"
      },
      "execution_count": null,
      "outputs": []
    },
    {
      "cell_type": "code",
      "source": [
        "var = 'hello world!'\n",
        "print(var)"
      ],
      "metadata": {
        "colab": {
          "base_uri": "https://localhost:8080/"
        },
        "id": "qgbdYGopxoh7",
        "outputId": "d8f5db70-4585-4702-c837-630d32b47788"
      },
      "execution_count": null,
      "outputs": [
        {
          "output_type": "stream",
          "name": "stdout",
          "text": [
            "hello world!\n"
          ]
        }
      ]
    },
    {
      "cell_type": "markdown",
      "source": [
        "Rules for Writing Variables"
      ],
      "metadata": {
        "id": "dIdo-V06_2Lk"
      }
    },
    {
      "cell_type": "code",
      "source": [
        "# In writing codes or variables in Python, one must observe and abide by certain rules.\n",
        "# Errors are inevitable when these rules are broken.\n",
        "# But one does not need to be discouraged by errors since errors are to programmers like the air we breath."
      ],
      "metadata": {
        "id": "1H-IqJrE_v4c"
      },
      "execution_count": null,
      "outputs": []
    },
    {
      "cell_type": "markdown",
      "source": [
        "Rule 1"
      ],
      "metadata": {
        "id": "Tfcd3jC6DT5V"
      }
    },
    {
      "cell_type": "code",
      "source": [
        " # Variable names can only contain letters, numbers and underscores.\n",
        " # For example:"
      ],
      "metadata": {
        "id": "2BqcszL7Cl51"
      },
      "execution_count": null,
      "outputs": []
    },
    {
      "cell_type": "code",
      "source": [
        "var_1 = 'hello world!'\n",
        "print(var_1)"
      ],
      "metadata": {
        "colab": {
          "base_uri": "https://localhost:8080/"
        },
        "id": "mw06YxwUFy8H",
        "outputId": "bf06c645-0bc7-487a-9e8b-22a9aabebb48"
      },
      "execution_count": null,
      "outputs": [
        {
          "output_type": "stream",
          "name": "stdout",
          "text": [
            "hello world!\n"
          ]
        }
      ]
    },
    {
      "cell_type": "markdown",
      "source": [
        "Rule 2"
      ],
      "metadata": {
        "id": "JHFo-Dv-E2wV"
      }
    },
    {
      "cell_type": "code",
      "source": [
        "# You are not allowed to have spaces in variable names\n",
        "# For example:"
      ],
      "metadata": {
        "id": "H9UiGmQhE7Jv"
      },
      "execution_count": null,
      "outputs": []
    },
    {
      "cell_type": "code",
      "source": [
        "var 1 = 'hello world!'\n",
        "print(var 1)"
      ],
      "metadata": {
        "colab": {
          "base_uri": "https://localhost:8080/",
          "height": 145
        },
        "id": "HXtld2oZGItW",
        "outputId": "32ab03d9-782b-4394-bd3e-1d150ff7948d"
      },
      "execution_count": null,
      "outputs": [
        {
          "output_type": "error",
          "ename": "SyntaxError",
          "evalue": "invalid syntax (<ipython-input-9-4599001ba5e8>, line 1)",
          "traceback": [
            "\u001b[0;36m  File \u001b[0;32m\"<ipython-input-9-4599001ba5e8>\"\u001b[0;36m, line \u001b[0;32m1\u001b[0m\n\u001b[0;31m    var 1 = 'hello world!'\u001b[0m\n\u001b[0m        ^\u001b[0m\n\u001b[0;31mSyntaxError\u001b[0m\u001b[0;31m:\u001b[0m invalid syntax\n"
          ]
        }
      ]
    },
    {
      "cell_type": "markdown",
      "source": [
        "Rule 3"
      ],
      "metadata": {
        "id": "Wgvkfi82Gr5G"
      }
    },
    {
      "cell_type": "code",
      "source": [
        "# Variable names are labels and so should be descriptive\n",
        "# For example"
      ],
      "metadata": {
        "id": "576VMPkSGaKf"
      },
      "execution_count": null,
      "outputs": []
    },
    {
      "cell_type": "code",
      "source": [
        "first_code = 'hello world!'\n",
        "print(first_code)"
      ],
      "metadata": {
        "colab": {
          "base_uri": "https://localhost:8080/"
        },
        "id": "ssA8EHWdHKfn",
        "outputId": "c041a5dc-454c-450b-9079-ed0535ff6f5b"
      },
      "execution_count": null,
      "outputs": [
        {
          "output_type": "stream",
          "name": "stdout",
          "text": [
            "hello world!\n"
          ]
        }
      ]
    },
    {
      "cell_type": "markdown",
      "source": [
        "Rules 4"
      ],
      "metadata": {
        "id": "AIqgSdZuHzt3"
      }
    },
    {
      "cell_type": "code",
      "source": [
        "# Do not confuse readers with variable names with letters that are similar to numbers.\n",
        "# Because for most part as Data Analysts, we read codes more than writing them.\n",
        "# For example, don't write 1 where you are mearnt to i"
      ],
      "metadata": {
        "id": "TMHVo8mdH2Nt"
      },
      "execution_count": null,
      "outputs": []
    },
    {
      "cell_type": "markdown",
      "source": [
        "Rule 5"
      ],
      "metadata": {
        "id": "9WkcrX0ZKHhl"
      }
    },
    {
      "cell_type": "code",
      "source": [
        "# Avoid using Python reserved names for keywords and functions.\n",
        "# For example:"
      ],
      "metadata": {
        "id": "DYo62VvwKGv9"
      },
      "execution_count": null,
      "outputs": []
    },
    {
      "cell_type": "code",
      "source": [
        "lst = (55, 65)\n",
        "sum(lst)"
      ],
      "metadata": {
        "colab": {
          "base_uri": "https://localhost:8080/"
        },
        "id": "ByNDDV6LLk0I",
        "outputId": "98bf7bbc-4e0f-46e3-d5fd-79213ae67f1d"
      },
      "execution_count": null,
      "outputs": [
        {
          "output_type": "execute_result",
          "data": {
            "text/plain": [
              "120"
            ]
          },
          "metadata": {},
          "execution_count": 12
        }
      ]
    },
    {
      "cell_type": "code",
      "source": [
        "# Since SUM is a Python reserved name, you cannot use SUM as a variable\n",
        "# For example:"
      ],
      "metadata": {
        "id": "M2qskzXhMINE"
      },
      "execution_count": null,
      "outputs": []
    },
    {
      "cell_type": "code",
      "source": [
        "sum = ( 55, 65)\n",
        "sum(lst)"
      ],
      "metadata": {
        "colab": {
          "base_uri": "https://localhost:8080/",
          "height": 200
        },
        "id": "N9npP1aEMtLv",
        "outputId": "99c6ef65-3d34-4c80-bcf2-33c7dc720968"
      },
      "execution_count": null,
      "outputs": [
        {
          "output_type": "error",
          "ename": "TypeError",
          "evalue": "'tuple' object is not callable",
          "traceback": [
            "\u001b[0;31m---------------------------------------------------------------------------\u001b[0m",
            "\u001b[0;31mTypeError\u001b[0m                                 Traceback (most recent call last)",
            "\u001b[0;32m<ipython-input-15-c8f6e33f78c7>\u001b[0m in \u001b[0;36m<cell line: 2>\u001b[0;34m()\u001b[0m\n\u001b[1;32m      1\u001b[0m \u001b[0msum\u001b[0m \u001b[0;34m=\u001b[0m \u001b[0;34m(\u001b[0m \u001b[0;36m55\u001b[0m\u001b[0;34m,\u001b[0m \u001b[0;36m65\u001b[0m\u001b[0;34m)\u001b[0m\u001b[0;34m\u001b[0m\u001b[0;34m\u001b[0m\u001b[0m\n\u001b[0;32m----> 2\u001b[0;31m \u001b[0msum\u001b[0m\u001b[0;34m(\u001b[0m\u001b[0mlst\u001b[0m\u001b[0;34m)\u001b[0m\u001b[0;34m\u001b[0m\u001b[0;34m\u001b[0m\u001b[0m\n\u001b[0m",
            "\u001b[0;31mTypeError\u001b[0m: 'tuple' object is not callable"
          ]
        }
      ]
    }
  ]
}